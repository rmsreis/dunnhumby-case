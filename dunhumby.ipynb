{
 "cells": [
  {
   "cell_type": "code",
   "execution_count": 58,
   "id": "a93d332e",
   "metadata": {},
   "outputs": [],
   "source": [
    "# !pip install pandas"
   ]
  },
  {
   "cell_type": "code",
   "execution_count": 59,
   "id": "912a4285",
   "metadata": {},
   "outputs": [
    {
     "name": "stdout",
     "output_type": "stream",
     "text": [
      "Using matplotlib backend: Qt5Agg\n"
     ]
    }
   ],
   "source": [
    "%matplotlib\n",
    "\n",
    "import pandas as pd\n",
    "import matplotlib.pyplot as plt\n",
    "import numpy as np"
   ]
  },
  {
   "cell_type": "markdown",
   "id": "9dc9fcdf",
   "metadata": {},
   "source": [
    "## General Python\n",
    "\n",
    "### 1.\tGiven the list of basket values, do the following:  \n",
    "    a.\tPrint out whether each basket is small (basket value < £5), medium (£5 ≤ basket value < £10) or large (basket value ≥ £10); \n",
    "    \n",
    "    b.\tSum and print the value of the medium value baskets. \n",
    " "
   ]
  },
  {
   "cell_type": "code",
   "execution_count": 101,
   "id": "4bb39477",
   "metadata": {},
   "outputs": [],
   "source": [
    "values_dict = {}\n",
    "x_med_val = []\n",
    "\n",
    "def values(basket_values):\n",
    "    for x in basket_values:\n",
    "        if x<5:\n",
    "            values_dict[x] = 'Small'\n",
    "        elif x>10:\n",
    "            values_dict[x] = 'Large'\n",
    "        else:\n",
    "            values_dict[x] ='Medium'\n",
    "            x_med_val.append(x)\n",
    "    return values_dict, sum(x_med_val)"
   ]
  },
  {
   "cell_type": "code",
   "execution_count": 102,
   "id": "3172a05e",
   "metadata": {},
   "outputs": [],
   "source": [
    "basket_values = [3.43, 9.73, 7.56, 9.52, 15.23, 2.25,6.44,7.38]"
   ]
  },
  {
   "cell_type": "code",
   "execution_count": 103,
   "id": "17fd9924",
   "metadata": {},
   "outputs": [
    {
     "name": "stdout",
     "output_type": "stream",
     "text": [
      "{3.43: 'Small', 9.73: 'Medium', 7.56: 'Medium', 9.52: 'Medium', 15.23: 'Large', 2.25: 'Small', 6.44: 'Medium', 7.38: 'Medium'}\n",
      "The sum of the value of the medium value baskets is 40.63\n"
     ]
    }
   ],
   "source": [
    "val, med = values(basket_values)\n",
    "print(val)\n",
    "print(f'The sum of the value of the medium value baskets is {med}')"
   ]
  },
  {
   "cell_type": "markdown",
   "id": "e4f2aed2",
   "metadata": {},
   "source": [
    "### 2.\tYou are given the following nested dictionaries, which represent items in a basket.  Do the following:  \n",
    "\n",
    "    a.\tReturn the product name for item 7527. \n",
    "    b.\tReturn the total value of this basket. \n",
    "    \n",
    "    c.\tAdd another entry for a product that costs £4.95, has ID 7524 and name ‘poppy seeds’. \n",
    "    \n",
    "    ``basket = {'2624': {'price': 0.5, 'prod_name': 'salt'},'2894': {'price': 3.25, 'prod_name': 'yeast'}, '7527': {'price': 2.5, 'prod_name': 'flour'}}``\n"
   ]
  },
  {
   "cell_type": "code",
   "execution_count": 104,
   "id": "f297819d",
   "metadata": {},
   "outputs": [],
   "source": [
    "basket = {'2624': {'price': 0.5, 'prod_name': 'salt'},\n",
    "          '2894': {'price': 3.25, 'prod_name': 'yeast'}, \n",
    "          '7527': {'price': 2.5, 'prod_name': 'flour'}}"
   ]
  },
  {
   "cell_type": "code",
   "execution_count": 105,
   "id": "ddd3e296",
   "metadata": {},
   "outputs": [],
   "source": [
    "def get_val(dct, *keys):\n",
    "    for key in keys:\n",
    "        try:\n",
    "            dct = dct[key]\n",
    "        except KeyError:\n",
    "            return None\n",
    "    return dct"
   ]
  },
  {
   "cell_type": "code",
   "execution_count": 106,
   "id": "7e5a29fa",
   "metadata": {},
   "outputs": [
    {
     "data": {
      "text/plain": [
       "'flour'"
      ]
     },
     "execution_count": 106,
     "metadata": {},
     "output_type": "execute_result"
    }
   ],
   "source": [
    "get_val(basket, '7527', 'prod_name')"
   ]
  },
  {
   "cell_type": "code",
   "execution_count": 107,
   "id": "fb444fcd",
   "metadata": {},
   "outputs": [],
   "source": [
    "\n",
    "# basket['7524'] ={}\n",
    "# basket['7524']['price'] = 4.95\n",
    "# basket['7524']['prod_name'] = 'poppy seeds'\n",
    "\n",
    "# print (basket)"
   ]
  },
  {
   "cell_type": "code",
   "execution_count": 110,
   "id": "c3610fe9",
   "metadata": {},
   "outputs": [],
   "source": [
    "def add_values(dct, key1, key2, key3):\n",
    "    dct[key1] ={}\n",
    "    dct[key1]['price'] = key2\n",
    "    dct[key1]['prod_name'] = key3\n",
    "    return dct"
   ]
  },
  {
   "cell_type": "code",
   "execution_count": 111,
   "id": "7e19f7d2",
   "metadata": {},
   "outputs": [
    {
     "data": {
      "text/plain": [
       "{'2624': {'price': 0.5, 'prod_name': 'salt'},\n",
       " '2894': {'price': 3.25, 'prod_name': 'yeast'},\n",
       " '7527': {'price': 2.5, 'prod_name': 'flour'},\n",
       " '7524': {'price': 4.95, 'prod_name': 'poppy_seeds'}}"
      ]
     },
     "execution_count": 111,
     "metadata": {},
     "output_type": "execute_result"
    }
   ],
   "source": [
    "add_values(basket, '7524', 4.95, 'poppy_seeds')"
   ]
  },
  {
   "cell_type": "markdown",
   "id": "e1e3bfd9",
   "metadata": {},
   "source": [
    "### 3.\tBelow is the source code for a function called ‘get_sql_string’. \n",
    "\n",
    "``1   def get_sql_string(stores):\n",
    "2      store_names = [x.split(', ')[0] for x in stores]\n",
    "3      store_names = [x.replace(' ', '_') for x in store_names]\n",
    "4      store_regions = [x.split(',')[1] for x in stores]\n",
    "5      locations = store_names + store_regions\n",
    "6      columns = ['sales_' + x.lower() for x in locations]\n",
    "7      return ', '.join(columns)``\n",
    "\n",
    "\n",
    "a.\tThere is a bug in line 4. What should the line be? \n",
    "\n",
    "b.\tAssuming this bug was fixed, what would be returned if the following command was executed: \n",
    "\n",
    "``my_stores = ['Fulham Palace Rd, Hammersmith', 'Crown St, Reading', 'Leavesden Green, Watford'] \n",
    "get_sql_string(my_stores)``\n"
   ]
  },
  {
   "cell_type": "code",
   "execution_count": 125,
   "id": "b6d4a218",
   "metadata": {},
   "outputs": [],
   "source": [
    "def get_sql_string(stores):\n",
    "    store_names = [x.split(', ')[0] for x in stores]\n",
    "    store_names = [x.replace(' ', '_') for x in store_names]\n",
    "    store_regions = [x.split(',')[1] for x in stores]\n",
    "    locations = store_names + store_regions\n",
    "    columns = ['sales_' + x.lower() for x in locations]\n",
    "    return ', '.join(columns)"
   ]
  },
  {
   "cell_type": "code",
   "execution_count": 146,
   "id": "3c962297",
   "metadata": {},
   "outputs": [
    {
     "data": {
      "text/plain": [
       "'sales_fulham_palace_rd, sales_crown_st, sales_leavesden_green, sales_ hammersmith, sales_ reading, sales_ watford'"
      ]
     },
     "execution_count": 146,
     "metadata": {},
     "output_type": "execute_result"
    }
   ],
   "source": [
    "my_stores = ['Fulham Palace Rd, Hammersmith', 'Crown St, Reading', 'Leavesden Green, Watford'] \n",
    "\n",
    "get_sql_string(my_stores)"
   ]
  },
  {
   "cell_type": "markdown",
   "id": "3c7a22af",
   "metadata": {},
   "source": [
    "### 4.\tWrite a function that:\n",
    "\n",
    "a.\taccepts a list of strings as input.\n",
    "\n",
    "b.\treturns an alphabetically ordered list of unique strings. \n",
    "\n",
    "c.\tprints the string(s) with maximum length in the console. \n"
   ]
  },
  {
   "cell_type": "code",
   "execution_count": 269,
   "id": "875daad0",
   "metadata": {},
   "outputs": [
    {
     "name": "stdout",
     "output_type": "stream",
     "text": [
      "Crown St, Reading Leavesden Green, Watford Fulham Palace Rd, Hammersmith "
     ]
    }
   ],
   "source": [
    "def printArraystring(string, n):\n",
    "    for i in range(n):\n",
    "        print(string[i], end = \" \")\n",
    " \n",
    "# Function to Sort the array of string\n",
    "# according to lengths. This function\n",
    "# implements Insertion Sort.\n",
    "def sort(s, n):\n",
    "    for i in range(1, n):\n",
    "        temp = s[i]\n",
    " \n",
    "        # Insert s[j] at its correct position\n",
    "        j = i - 1\n",
    "        while j >= 0 and len(temp) < len(s[j]):\n",
    "            s[j + 1] = s[j]\n",
    "            j -= 1\n",
    " \n",
    "        s[j + 1] = temp\n",
    " \n",
    "# Driver code\n",
    "if __name__ == \"__main__\":\n",
    "    arr = ['Fulham Palace Rd, Hammersmith', 'Crown St, Reading', 'Leavesden Green, Watford']\n",
    "    n = len(arr)\n",
    " \n",
    "    # Function to perform sorting\n",
    "    sort(arr, n)\n",
    " \n",
    "    # Calling the function to print result\n",
    "    printArraystring(arr, n)"
   ]
  },
  {
   "cell_type": "markdown",
   "id": "c2133103",
   "metadata": {},
   "source": [
    "## Section 2: pandas/SQL data frames\n",
    "\n",
    "- Suppose you have access to two data frames, ``dept`` and ``employee``. The first three rows of these are represented below.\n",
    "\n",
    "\n",
    "### QUESTIONS\n",
    "1.\tFind the nth largest salary. \n",
    "2.\tList the highest salary paid for each job.\n",
    "3.\tIn which year did most people join the company?  Display the year and the number of Employees. \n",
    "4.\tCreate a new column with the length of service of the Employees (in the form n years and m months).  \n",
    "\n"
   ]
  },
  {
   "cell_type": "markdown",
   "id": "263257ae",
   "metadata": {},
   "source": [
    " Before make the queries I will merge both employee and dept dataframes using ``DEPTNO`` column\n",
    "\n",
    "``dataframe = pd.merge(employee, dept, on=\"DEPTNO\")``\n"
   ]
  },
  {
   "cell_type": "code",
   "execution_count": 235,
   "id": "ae2da913",
   "metadata": {},
   "outputs": [
    {
     "data": {
      "text/html": [
       "<div>\n",
       "<style scoped>\n",
       "    .dataframe tbody tr th:only-of-type {\n",
       "        vertical-align: middle;\n",
       "    }\n",
       "\n",
       "    .dataframe tbody tr th {\n",
       "        vertical-align: top;\n",
       "    }\n",
       "\n",
       "    .dataframe thead th {\n",
       "        text-align: right;\n",
       "    }\n",
       "</style>\n",
       "<table border=\"1\" class=\"dataframe\">\n",
       "  <thead>\n",
       "    <tr style=\"text-align: right;\">\n",
       "      <th></th>\n",
       "      <th>EMPNO</th>\n",
       "      <th>NAME</th>\n",
       "      <th>JOB</th>\n",
       "      <th>MNGR</th>\n",
       "      <th>HIREDATE</th>\n",
       "      <th>SAL</th>\n",
       "    </tr>\n",
       "  </thead>\n",
       "  <tbody>\n",
       "    <tr>\n",
       "      <th>0</th>\n",
       "      <td>68319</td>\n",
       "      <td>KAYLING</td>\n",
       "      <td>PRESIDENT</td>\n",
       "      <td>NaN</td>\n",
       "      <td>1991-11-18</td>\n",
       "      <td>6000</td>\n",
       "    </tr>\n",
       "    <tr>\n",
       "      <th>1</th>\n",
       "      <td>66928</td>\n",
       "      <td>BLAZE</td>\n",
       "      <td>MANAGER</td>\n",
       "      <td>68319.0</td>\n",
       "      <td>1991-05-01</td>\n",
       "      <td>2750</td>\n",
       "    </tr>\n",
       "    <tr>\n",
       "      <th>2</th>\n",
       "      <td>67832</td>\n",
       "      <td>CLARE</td>\n",
       "      <td>MANAGER</td>\n",
       "      <td>68319.0</td>\n",
       "      <td>1991-06-09</td>\n",
       "      <td>2550</td>\n",
       "    </tr>\n",
       "    <tr>\n",
       "      <th>3</th>\n",
       "      <td>65646</td>\n",
       "      <td>JONAS</td>\n",
       "      <td>MANAGER</td>\n",
       "      <td>68319.0</td>\n",
       "      <td>1991-04-02</td>\n",
       "      <td>2957</td>\n",
       "    </tr>\n",
       "    <tr>\n",
       "      <th>4</th>\n",
       "      <td>67858</td>\n",
       "      <td>SCARLET</td>\n",
       "      <td>ANALYST</td>\n",
       "      <td>65646.0</td>\n",
       "      <td>1997-04-19</td>\n",
       "      <td>3100</td>\n",
       "    </tr>\n",
       "  </tbody>\n",
       "</table>\n",
       "</div>"
      ],
      "text/plain": [
       "   EMPNO     NAME        JOB     MNGR   HIREDATE   SAL\n",
       "0  68319  KAYLING  PRESIDENT      NaN 1991-11-18  6000\n",
       "1  66928    BLAZE    MANAGER  68319.0 1991-05-01  2750\n",
       "2  67832    CLARE    MANAGER  68319.0 1991-06-09  2550\n",
       "3  65646    JONAS    MANAGER  68319.0 1991-04-02  2957\n",
       "4  67858  SCARLET    ANALYST  65646.0 1997-04-19  3100"
      ]
     },
     "execution_count": 235,
     "metadata": {},
     "output_type": "execute_result"
    }
   ],
   "source": [
    "dataframe = pd.read_csv('employees.csv')\n",
    "dataframe['HIREDATE']= pd.to_datetime(dataframe['HIREDATE'])     \n",
    "dataframe.head()"
   ]
  },
  {
   "cell_type": "code",
   "execution_count": 236,
   "id": "832b46f3",
   "metadata": {},
   "outputs": [
    {
     "name": "stdout",
     "output_type": "stream",
     "text": [
      "2957\n"
     ]
    }
   ],
   "source": [
    "# Answer Q1: I have create a function to query the nth_max salary\n",
    "\n",
    "def n_salary(dataframe,nth):\n",
    "    nth_max_salary=dataframe.sort_values('SAL',ascending=False)['SAL'].loc[nth]\n",
    "    return nth_max_salary\n",
    "\n",
    "#ex to query:\n",
    "third_max_salary = n_salary(dataframe,3)\n",
    "print(third_max_salary)\n"
   ]
  },
  {
   "cell_type": "code",
   "execution_count": 237,
   "id": "babd61ee",
   "metadata": {},
   "outputs": [
    {
     "data": {
      "text/html": [
       "<div>\n",
       "<style scoped>\n",
       "    .dataframe tbody tr th:only-of-type {\n",
       "        vertical-align: middle;\n",
       "    }\n",
       "\n",
       "    .dataframe tbody tr th {\n",
       "        vertical-align: top;\n",
       "    }\n",
       "\n",
       "    .dataframe thead th {\n",
       "        text-align: right;\n",
       "    }\n",
       "</style>\n",
       "<table border=\"1\" class=\"dataframe\">\n",
       "  <thead>\n",
       "    <tr style=\"text-align: right;\">\n",
       "      <th></th>\n",
       "      <th></th>\n",
       "      <th>EMPNO</th>\n",
       "      <th>NAME</th>\n",
       "      <th>JOB</th>\n",
       "      <th>MNGR</th>\n",
       "      <th>HIREDATE</th>\n",
       "      <th>SAL</th>\n",
       "    </tr>\n",
       "    <tr>\n",
       "      <th>JOB</th>\n",
       "      <th></th>\n",
       "      <th></th>\n",
       "      <th></th>\n",
       "      <th></th>\n",
       "      <th></th>\n",
       "      <th></th>\n",
       "      <th></th>\n",
       "    </tr>\n",
       "  </thead>\n",
       "  <tbody>\n",
       "    <tr>\n",
       "      <th rowspan=\"2\" valign=\"top\">ANALYST</th>\n",
       "      <th>4</th>\n",
       "      <td>67858</td>\n",
       "      <td>SCARLET</td>\n",
       "      <td>ANALYST</td>\n",
       "      <td>65646.0</td>\n",
       "      <td>1997-04-19</td>\n",
       "      <td>3100</td>\n",
       "    </tr>\n",
       "    <tr>\n",
       "      <th>5</th>\n",
       "      <td>69062</td>\n",
       "      <td>FRANK</td>\n",
       "      <td>ANALYST</td>\n",
       "      <td>65646.0</td>\n",
       "      <td>1991-12-03</td>\n",
       "      <td>3100</td>\n",
       "    </tr>\n",
       "    <tr>\n",
       "      <th>CLERK</th>\n",
       "      <th>13</th>\n",
       "      <td>69324</td>\n",
       "      <td>MARKER</td>\n",
       "      <td>CLERK</td>\n",
       "      <td>67832.0</td>\n",
       "      <td>1992-01-23</td>\n",
       "      <td>1400</td>\n",
       "    </tr>\n",
       "    <tr>\n",
       "      <th>MANAGER</th>\n",
       "      <th>3</th>\n",
       "      <td>65646</td>\n",
       "      <td>JONAS</td>\n",
       "      <td>MANAGER</td>\n",
       "      <td>68319.0</td>\n",
       "      <td>1991-04-02</td>\n",
       "      <td>2957</td>\n",
       "    </tr>\n",
       "    <tr>\n",
       "      <th>PRESIDENT</th>\n",
       "      <th>0</th>\n",
       "      <td>68319</td>\n",
       "      <td>KAYLING</td>\n",
       "      <td>PRESIDENT</td>\n",
       "      <td>NaN</td>\n",
       "      <td>1991-11-18</td>\n",
       "      <td>6000</td>\n",
       "    </tr>\n",
       "    <tr>\n",
       "      <th>SALESMAN</th>\n",
       "      <th>7</th>\n",
       "      <td>64989</td>\n",
       "      <td>ADELYN</td>\n",
       "      <td>SALESMAN</td>\n",
       "      <td>66928.0</td>\n",
       "      <td>1991-02-20</td>\n",
       "      <td>1700</td>\n",
       "    </tr>\n",
       "  </tbody>\n",
       "</table>\n",
       "</div>"
      ],
      "text/plain": [
       "              EMPNO     NAME        JOB     MNGR   HIREDATE   SAL\n",
       "JOB                                                              \n",
       "ANALYST   4   67858  SCARLET    ANALYST  65646.0 1997-04-19  3100\n",
       "          5   69062    FRANK    ANALYST  65646.0 1991-12-03  3100\n",
       "CLERK     13  69324   MARKER      CLERK  67832.0 1992-01-23  1400\n",
       "MANAGER   3   65646    JONAS    MANAGER  68319.0 1991-04-02  2957\n",
       "PRESIDENT 0   68319  KAYLING  PRESIDENT      NaN 1991-11-18  6000\n",
       "SALESMAN  7   64989   ADELYN   SALESMAN  66928.0 1991-02-20  1700"
      ]
     },
     "execution_count": 237,
     "metadata": {},
     "output_type": "execute_result"
    }
   ],
   "source": [
    "# Answer Q2:\n",
    "# in SQL ``SELECT MAX(SAL) FROM employee GROUP BY JOB``\n",
    "# in pandas\n",
    "\n",
    "result = dataframe.groupby('JOB').apply(lambda x: x[x['SAL'] == x['SAL'].max()])\n",
    "result\n"
   ]
  },
  {
   "cell_type": "code",
   "execution_count": 238,
   "id": "da726edc",
   "metadata": {},
   "outputs": [
    {
     "data": {
      "text/plain": [
       "1991    10\n",
       "1997     2\n",
       "1992     1\n",
       "1990     1\n",
       "Name: YEAR, dtype: int64"
      ]
     },
     "execution_count": 238,
     "metadata": {},
     "output_type": "execute_result"
    }
   ],
   "source": [
    "# Answer Q3:\n",
    "# in SQL\n",
    "\n",
    "dataframe['YEAR'] = dataframe['HIREDATE'].dt.year\n",
    "dataframe['YEAR'].value_counts()\n"
   ]
  },
  {
   "cell_type": "code",
   "execution_count": 239,
   "id": "127583b2",
   "metadata": {},
   "outputs": [],
   "source": [
    "# !pip install python-dateutil"
   ]
  },
  {
   "cell_type": "code",
   "execution_count": 268,
   "id": "6040e192",
   "metadata": {},
   "outputs": [
    {
     "data": {
      "text/html": [
       "<div>\n",
       "<style scoped>\n",
       "    .dataframe tbody tr th:only-of-type {\n",
       "        vertical-align: middle;\n",
       "    }\n",
       "\n",
       "    .dataframe tbody tr th {\n",
       "        vertical-align: top;\n",
       "    }\n",
       "\n",
       "    .dataframe thead th {\n",
       "        text-align: right;\n",
       "    }\n",
       "</style>\n",
       "<table border=\"1\" class=\"dataframe\">\n",
       "  <thead>\n",
       "    <tr style=\"text-align: right;\">\n",
       "      <th></th>\n",
       "      <th>EMPNO</th>\n",
       "      <th>NAME</th>\n",
       "      <th>JOB</th>\n",
       "      <th>MNGR</th>\n",
       "      <th>HIREDATE</th>\n",
       "      <th>SAL</th>\n",
       "      <th>YEAR</th>\n",
       "      <th>SERVICE_LEN</th>\n",
       "    </tr>\n",
       "  </thead>\n",
       "  <tbody>\n",
       "    <tr>\n",
       "      <th>0</th>\n",
       "      <td>68319</td>\n",
       "      <td>KAYLING</td>\n",
       "      <td>PRESIDENT</td>\n",
       "      <td>NaN</td>\n",
       "      <td>1991-11-18</td>\n",
       "      <td>6000</td>\n",
       "      <td>1991</td>\n",
       "      <td>(29, 8)</td>\n",
       "    </tr>\n",
       "    <tr>\n",
       "      <th>1</th>\n",
       "      <td>66928</td>\n",
       "      <td>BLAZE</td>\n",
       "      <td>MANAGER</td>\n",
       "      <td>68319.0</td>\n",
       "      <td>1991-05-01</td>\n",
       "      <td>2750</td>\n",
       "      <td>1991</td>\n",
       "      <td>(30, 3)</td>\n",
       "    </tr>\n",
       "    <tr>\n",
       "      <th>2</th>\n",
       "      <td>67832</td>\n",
       "      <td>CLARE</td>\n",
       "      <td>MANAGER</td>\n",
       "      <td>68319.0</td>\n",
       "      <td>1991-06-09</td>\n",
       "      <td>2550</td>\n",
       "      <td>1991</td>\n",
       "      <td>(30, 2)</td>\n",
       "    </tr>\n",
       "    <tr>\n",
       "      <th>3</th>\n",
       "      <td>65646</td>\n",
       "      <td>JONAS</td>\n",
       "      <td>MANAGER</td>\n",
       "      <td>68319.0</td>\n",
       "      <td>1991-04-02</td>\n",
       "      <td>2957</td>\n",
       "      <td>1991</td>\n",
       "      <td>(30, 4)</td>\n",
       "    </tr>\n",
       "    <tr>\n",
       "      <th>4</th>\n",
       "      <td>67858</td>\n",
       "      <td>SCARLET</td>\n",
       "      <td>ANALYST</td>\n",
       "      <td>65646.0</td>\n",
       "      <td>1997-04-19</td>\n",
       "      <td>3100</td>\n",
       "      <td>1997</td>\n",
       "      <td>(24, 3)</td>\n",
       "    </tr>\n",
       "  </tbody>\n",
       "</table>\n",
       "</div>"
      ],
      "text/plain": [
       "   EMPNO     NAME        JOB     MNGR   HIREDATE   SAL  YEAR SERVICE_LEN\n",
       "0  68319  KAYLING  PRESIDENT      NaN 1991-11-18  6000  1991     (29, 8)\n",
       "1  66928    BLAZE    MANAGER  68319.0 1991-05-01  2750  1991     (30, 3)\n",
       "2  67832    CLARE    MANAGER  68319.0 1991-06-09  2550  1991     (30, 2)\n",
       "3  65646    JONAS    MANAGER  68319.0 1991-04-02  2957  1991     (30, 4)\n",
       "4  67858  SCARLET    ANALYST  65646.0 1997-04-19  3100  1997     (24, 3)"
      ]
     },
     "execution_count": 268,
     "metadata": {},
     "output_type": "execute_result"
    }
   ],
   "source": [
    "#Answer Q4:\n",
    "#First I will make sure the 'HIREDATE' column is in a known timestamp format\n",
    "import datetime\n",
    "from dateutil.relativedelta import relativedelta\n",
    "\n",
    "def serv_time(hiredate):\n",
    "    today = datetime.date.today()\n",
    "    service = relativedelta(date.today(), hiredate)\n",
    "    return service.years, service.months\n",
    "\n",
    "\n",
    "dataframe['SERVICE_LEN'] = dataframe['HIREDATE'].apply(lambda x: serv_time(x))\n",
    "\n",
    "dataframe.head()"
   ]
  },
  {
   "cell_type": "code",
   "execution_count": null,
   "id": "9f511fa2",
   "metadata": {},
   "outputs": [],
   "source": []
  }
 ],
 "metadata": {
  "kernelspec": {
   "display_name": "Python 3",
   "language": "python",
   "name": "python3"
  },
  "language_info": {
   "codemirror_mode": {
    "name": "ipython",
    "version": 3
   },
   "file_extension": ".py",
   "mimetype": "text/x-python",
   "name": "python",
   "nbconvert_exporter": "python",
   "pygments_lexer": "ipython3",
   "version": "3.7.0"
  }
 },
 "nbformat": 4,
 "nbformat_minor": 5
}
